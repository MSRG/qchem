{
 "cells": [
  {
   "cell_type": "code",
   "execution_count": null,
   "id": "067066bc",
   "metadata": {},
   "outputs": [],
   "source": [
    "import sys\n",
    "\n",
    "sys.path.insert(0, '..')"
   ]
  },
  {
   "cell_type": "markdown",
   "id": "4e47833b",
   "metadata": {},
   "source": [
    "# Orbital information"
   ]
  },
  {
   "cell_type": "code",
   "execution_count": null,
   "id": "b1097311",
   "metadata": {},
   "outputs": [],
   "source": [
    "from msrg_vqe import utils\n",
    "\n",
    "mo_energy, mo_occ = utils.get_orbital_info(\n",
    "    xyz_file='adamantane.xyz',\n",
    "    spin=0,\n",
    "    charge=0,\n",
    "    basis='sto3g',\n",
    ")"
   ]
  },
  {
   "cell_type": "code",
   "execution_count": null,
   "id": "bf5893e4",
   "metadata": {},
   "outputs": [],
   "source": [
    "mo_energy"
   ]
  },
  {
   "cell_type": "code",
   "execution_count": null,
   "id": "2eddb30d",
   "metadata": {},
   "outputs": [],
   "source": [
    "mo_occ"
   ]
  },
  {
   "cell_type": "markdown",
   "id": "89c3f456",
   "metadata": {},
   "source": [
    "# Make molecule"
   ]
  },
  {
   "cell_type": "code",
   "execution_count": null,
   "id": "11ea2c2b",
   "metadata": {},
   "outputs": [],
   "source": [
    "import pickle\n",
    "from msrg_vqe import utils\n",
    "from msrg_vqe import Molecule\n",
    "from qiskit_nature.mappers.second_quantization import ParityMapper, JordanWignerMapper, BravyiKitaevMapper"
   ]
  },
  {
   "cell_type": "code",
   "execution_count": null,
   "id": "ac4ec056",
   "metadata": {},
   "outputs": [],
   "source": [
    "# If basis set free method\n",
    "# NOTE: adamantane.zyz.fop is for HOMO-LUMO\n",
    "with open('adamantane.xyz.fop', 'rb') as fp:\n",
    "    terms = pickle.load(fp)\n",
    "\n",
    "custom_second_q_op = utils.openfermion_to_qiskit(terms=terms, num_particles=(1, 1))"
   ]
  },
  {
   "cell_type": "code",
   "execution_count": null,
   "id": "23429860",
   "metadata": {},
   "outputs": [],
   "source": [
    "# If basis set free method, uncomment last argument\n",
    "\n",
    "molecule = Molecule(\n",
    "    xyz_file='adamantane.xyz',\n",
    "    active_num_electrons=4,\n",
    "    active_num_molecular_orbitals=4,\n",
    "    active_orbitals=[36, 37, 38, 39],\n",
    "    qubit_mapper=ParityMapper(),\n",
    "    two_qubit_reduction=True,\n",
    "    spin=0,\n",
    "    charge=0,\n",
    "    basis='sto3g',\n",
    "#     custom_second_q_op=custom_second_q_op,\n",
    ")"
   ]
  },
  {
   "cell_type": "code",
   "execution_count": null,
   "id": "8eea466a",
   "metadata": {},
   "outputs": [],
   "source": [
    "molecule.qubit_op"
   ]
  },
  {
   "cell_type": "code",
   "execution_count": null,
   "id": "4c7cd1c5",
   "metadata": {},
   "outputs": [],
   "source": [
    "molecule.ee_property.reference_energy"
   ]
  },
  {
   "cell_type": "code",
   "execution_count": null,
   "id": "53f33a5f",
   "metadata": {},
   "outputs": [],
   "source": [
    "molecule.nuclear_repulsion_energy"
   ]
  },
  {
   "cell_type": "code",
   "execution_count": null,
   "id": "efe033fa",
   "metadata": {},
   "outputs": [],
   "source": [
    "molecule.active_space_energy_shift"
   ]
  },
  {
   "cell_type": "markdown",
   "id": "3e152c77",
   "metadata": {},
   "source": [
    "# RFCI"
   ]
  },
  {
   "cell_type": "code",
   "execution_count": null,
   "id": "8acac48a",
   "metadata": {},
   "outputs": [],
   "source": [
    "from qiskit.algorithms import NumPyMinimumEigensolver"
   ]
  },
  {
   "cell_type": "code",
   "execution_count": null,
   "id": "2765b771",
   "metadata": {},
   "outputs": [],
   "source": [
    "npe = NumPyMinimumEigensolver()\n",
    "eigenvalue = npe.compute_minimum_eigenvalue(molecule.qubit_op).eigenvalue"
   ]
  },
  {
   "cell_type": "code",
   "execution_count": null,
   "id": "b0b20b66",
   "metadata": {},
   "outputs": [],
   "source": [
    "eigenvalue"
   ]
  },
  {
   "cell_type": "code",
   "execution_count": null,
   "id": "968d5034",
   "metadata": {},
   "outputs": [],
   "source": [
    "# If not basis set free method, we need to do some processing\n",
    "eigenvalue + molecule.active_space_energy_shift + molecule.nuclear_repulsion_energy"
   ]
  },
  {
   "cell_type": "markdown",
   "id": "439490c9",
   "metadata": {},
   "source": [
    "# VQE"
   ]
  },
  {
   "cell_type": "code",
   "execution_count": null,
   "id": "73a9efc0",
   "metadata": {},
   "outputs": [],
   "source": [
    "from qiskit.algorithms.optimizers import *\n",
    "from qiskit.providers.fake_provider import *\n",
    "from qiskit.providers.aer import AerSimulator\n",
    "from qiskit.opflow.gradients import Gradient\n",
    "from msrg_vqe.ansatz import make_hwe_ansatz, make_esu2_ansatz, make_excitation_preserving_ansatz\n",
    "from msrg_vqe import VQE"
   ]
  },
  {
   "cell_type": "code",
   "execution_count": null,
   "id": "dd342e48",
   "metadata": {},
   "outputs": [],
   "source": [
    "ansatz = make_hwe_ansatz(molecule, 1)\n",
    "optimizer = COBYLA()\n",
    "mitigation_settings = {\n",
    "    'readout': 'matrix-full', # matrix-full | matrix-tensored | matrix-free,\n",
    "    'readout-refresh': 5, # recalibrate every 5 min\n",
    "    'zne': True, # richardson extrapolation\n",
    "    'stc': False, # state tomography correction at every iteration\n",
    "    'zne_factory': 'richardson', # (specifies type of zne) richardson | linear\n",
    "}\n",
    "backend = AerSimulator.from_backend(FakeLagos())"
   ]
  },
  {
   "cell_type": "code",
   "execution_count": null,
   "id": "8e9a7579",
   "metadata": {},
   "outputs": [],
   "source": [
    "vqe = VQE(\n",
    "    molecule=molecule,\n",
    "    ansatz=ansatz,\n",
    "    optimizer=optimizer,\n",
    "    shots=8192,\n",
    "    backend=backend, \n",
    "    mitigation_settings=mitigation_settings,\n",
    "    gradient=None,\n",
    "    debug=1,\n",
    "    optimization_level=3,\n",
    "    initial_layout=[0, 1, 2, 3, 4, 5]\n",
    ")"
   ]
  },
  {
   "cell_type": "code",
   "execution_count": null,
   "id": "2d5bbd0f",
   "metadata": {},
   "outputs": [],
   "source": [
    "from msrg_vqe.lib.adapt_vqe import AdaptVQE\n",
    "\n",
    "# Note: if want to use AdaptVQE, vqe must be made from UCCSD ansatz\n",
    "# adapt = AdaptVQE(vqe)\n",
    "# def cb(*args):\n",
    "#     print(args)\n",
    "\n",
    "# adapt.solve(cb)"
   ]
  },
  {
   "cell_type": "code",
   "execution_count": null,
   "id": "b4492f9f",
   "metadata": {},
   "outputs": [],
   "source": [
    "parameter_list = []\n",
    "energy_list = []\n",
    "i = 1\n",
    "def callback(d):\n",
    "    parameter_list.append(d['parameters'])\n",
    "    energy_list.append(d['energy'])\n",
    "    global i\n",
    "    print(i, d)\n",
    "    i += 1\n",
    "\n",
    "result = vqe.get_energy(callback=callback)"
   ]
  },
  {
   "cell_type": "markdown",
   "id": "ac08e49f",
   "metadata": {},
   "source": [
    "# State tomography correction as post processing"
   ]
  },
  {
   "cell_type": "code",
   "execution_count": null,
   "id": "bd7c46a2",
   "metadata": {},
   "outputs": [],
   "source": [
    "# vqe.state_tomography_correction(result.x)"
   ]
  },
  {
   "cell_type": "code",
   "execution_count": null,
   "id": "6ef00eb6",
   "metadata": {},
   "outputs": [],
   "source": []
  },
  {
   "cell_type": "code",
   "execution_count": null,
   "id": "db1a3575",
   "metadata": {},
   "outputs": [],
   "source": []
  },
  {
   "cell_type": "code",
   "execution_count": null,
   "id": "c6b4b1f7",
   "metadata": {},
   "outputs": [],
   "source": []
  },
  {
   "cell_type": "code",
   "execution_count": null,
   "id": "96b08956",
   "metadata": {},
   "outputs": [],
   "source": []
  }
 ],
 "metadata": {
  "kernelspec": {
   "display_name": "Python 3.8.10 ('venv': venv)",
   "language": "python",
   "name": "python3"
  },
  "language_info": {
   "codemirror_mode": {
    "name": "ipython",
    "version": 3
   },
   "file_extension": ".py",
   "mimetype": "text/x-python",
   "name": "python",
   "nbconvert_exporter": "python",
   "pygments_lexer": "ipython3",
   "version": "3.8.10"
  },
  "vscode": {
   "interpreter": {
    "hash": "1e89300b7d17205828b7c86362c343c371da0fcf99525cf8bd9033f0d09108f8"
   }
  }
 },
 "nbformat": 4,
 "nbformat_minor": 5
}
